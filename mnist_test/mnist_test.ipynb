{
 "cells": [
  {
   "cell_type": "code",
   "execution_count": 23,
   "id": "0aacf5d9-fd6e-42f5-b09d-02b727eaf36b",
   "metadata": {},
   "outputs": [],
   "source": [
    "import numpy as np\n",
    "import pandas as pd\n",
    "import os\n",
    "import matplotlib.pyplot as plt\n",
    "\n",
    "import torch\n",
    "import torchvision\n",
    "import torchvision.transforms as transforms\n",
    "from torchvision.datasets import ImageFolder\n",
    "from torch.utils.data import DataLoader"
   ]
  },
  {
   "cell_type": "code",
   "execution_count": 11,
   "id": "0cbf7958-ab97-4270-a00b-640f6b6aab24",
   "metadata": {},
   "outputs": [],
   "source": [
    "import struct\n",
    "\n",
    "def load_mnist_images(filename):\n",
    "    \"\"\"Loads MNIST images from the given IDX file.\"\"\"\n",
    "    with open(filename, 'rb') as f:\n",
    "        magic, num_images, rows, cols = struct.unpack(\">IIII\", f.read(16))\n",
    "        images = np.frombuffer(f.read(), dtype=np.uint8).reshape(num_images, 28, 28)\n",
    "    return images\n"
   ]
  },
  {
   "cell_type": "code",
   "execution_count": 12,
   "id": "5ab69ec9-6738-46a6-953d-fcd75800df4d",
   "metadata": {},
   "outputs": [],
   "source": [
    "def load_mnist_labels(filename):\n",
    "    \"\"\"Loads MNIST labels from the given IDX file.\"\"\"\n",
    "    with open(filename, 'rb') as f:\n",
    "        magic, num_labels = struct.unpack(\">II\", f.read(8))\n",
    "        labels = np.frombuffer(f.read(), dtype=np.uint8)\n",
    "    return labels\n"
   ]
  },
  {
   "cell_type": "code",
   "execution_count": 16,
   "id": "65e415ad-7a4d-49cd-8cd9-9866a9e56179",
   "metadata": {},
   "outputs": [],
   "source": [
    "os.chdir(\"mnist_data\")"
   ]
  },
  {
   "cell_type": "code",
   "execution_count": 18,
   "id": "85e2680b-1d53-4ec9-9477-c484d984e690",
   "metadata": {},
   "outputs": [
    {
     "name": "stdout",
     "output_type": "stream",
     "text": [
      "Training set: (60000, 28, 28), Labels: (60000,)\n",
      "Test set: (10000, 28, 28), Labels: (10000,)\n"
     ]
    }
   ],
   "source": [
    "# Load training set\n",
    "train_images = load_mnist_images(\"train-images.idx3-ubyte\")\n",
    "train_labels = load_mnist_labels(\"train-labels.idx1-ubyte\")\n",
    "\n",
    "# Load test set\n",
    "test_images = load_mnist_images(\"t10k-images.idx3-ubyte\")\n",
    "test_labels = load_mnist_labels(\"t10k-labels.idx1-ubyte\")\n",
    "\n",
    "print(f\"Training set: {train_images.shape}, Labels: {train_labels.shape}\")\n",
    "print(f\"Test set: {test_images.shape}, Labels: {test_labels.shape}\")\n"
   ]
  },
  {
   "cell_type": "code",
   "execution_count": 24,
   "id": "609ceec1-46d7-43eb-b368-d2bd2fba77b0",
   "metadata": {},
   "outputs": [
    {
     "data": {
      "image/png": "[encoded data removed]",
      "text/plain": [
       "<Figure size 640x480 with 1 Axes>"
      ]
     },
     "metadata": {},
     "output_type": "display_data"
    }
   ],
   "source": [
    "# Show the first image in the training set\n",
    "plt.imshow(train_images[0], cmap=\"gray\")\n",
    "plt.title(f\"Label: {train_labels[0]}\")\n",
    "plt.show()\n"
   ]
  },
  {
   "cell_type": "code",
   "execution_count": 25,
   "id": "3c710c63-fd9a-46ec-b549-186eb6a29a08",
   "metadata": {},
   "outputs": [
    {
     "name": "stdout",
     "output_type": "stream",
     "text": [
      "Train images tensor: torch.Size([60000, 1, 28, 28])\n",
      "Test images tensor: torch.Size([10000, 1, 28, 28])\n"
     ]
    }
   ],
   "source": [
    "# Convert images and labels to PyTorch tensors\n",
    "train_images_tensor = torch.tensor(train_images, dtype=torch.float32).unsqueeze(1) / 255.0  # Normalize to [0,1]\n",
    "train_labels_tensor = torch.tensor(train_labels, dtype=torch.long)\n",
    "\n",
    "test_images_tensor = torch.tensor(test_images, dtype=torch.float32).unsqueeze(1) / 255.0  # Normalize\n",
    "test_labels_tensor = torch.tensor(test_labels, dtype=torch.long)\n",
    "\n",
    "print(f\"Train images tensor: {train_images_tensor.shape}\")\n",
    "print(f\"Test images tensor: {test_images_tensor.shape}\")\n"
   ]
  },
  {
   "cell_type": "code",
   "execution_count": 26,
   "id": "97fb2506-5706-49a8-b7cc-412d98268502",
   "metadata": {},
   "outputs": [],
   "source": [
    "from torch.utils.data import Dataset, DataLoader\n",
    "\n",
    "class MNISTDataset(Dataset):  # Inherit from PyTorch Dataset\n",
    "    def __init__(self, images, labels):\n",
    "        self.images = images  # Store image tensors\n",
    "        self.labels = labels  # Store label tensors\n",
    "\n",
    "    def __len__(self):\n",
    "        return len(self.labels)  # Returns the number of samples\n",
    "\n",
    "    def __getitem__(self, idx):\n",
    "        return self.images[idx], self.labels[idx]  # Retrieve image-label pair\n"
   ]
  },
  {
   "cell_type": "code",
   "execution_count": 27,
   "id": "958c2b17-ec9b-45e9-b58f-fcb541aebdda",
   "metadata": {},
   "outputs": [],
   "source": [
    "# Create PyTorch datasets\n",
    "train_dataset = MNISTDataset(train_images_tensor, train_labels_tensor)\n",
    "test_dataset = MNISTDataset(test_images_tensor, test_labels_tensor)\n"
   ]
  },
  {
   "cell_type": "code",
   "execution_count": 28,
   "id": "7690bd09-0635-43e0-90c1-3e0f5fed533a",
   "metadata": {},
   "outputs": [
    {
     "name": "stdout",
     "output_type": "stream",
     "text": [
      "Total batches in train_loader: 938\n",
      "Total batches in test_loader: 157\n"
     ]
    }
   ],
   "source": [
    "batch_size = 64\n",
    "\n",
    "train_loader = DataLoader(train_dataset, batch_size=batch_size, shuffle=True)\n",
    "test_loader = DataLoader(test_dataset, batch_size=batch_size, shuffle=False)\n",
    "\n",
    "print(f\"Total batches in train_loader: {len(train_loader)}\")\n",
    "print(f\"Total batches in test_loader: {len(test_loader)}\")\n"
   ]
  },
  {
   "cell_type": "code",
   "execution_count": 29,
   "id": "01df3dda-d75d-40eb-9d0e-23f8ab3cfba4",
   "metadata": {},
   "outputs": [
    {
     "name": "stdout",
     "output_type": "stream",
     "text": [
      "Batch size: torch.Size([64, 1, 28, 28]), Labels: torch.Size([64])\n"
     ]
    }
   ],
   "source": [
    "for images, labels in train_loader:\n",
    "    print(f\"Batch size: {images.shape}, Labels: {labels.shape}\")\n",
    "    break  # Show only the first batch\n"
   ]
  },
  {
   "cell_type": "code",
   "execution_count": 30,
   "id": "d196a87a-7909-49f7-a5b7-6dba2e9595a2",
   "metadata": {},
   "outputs": [],
   "source": [
    "import torch.nn as nn\n",
    "import torch.nn.functional as F\n",
    "\n",
    "# Define the neural network\n",
    "class MNISTClassifier(nn.Module):\n",
    "    def __init__(self):\n",
    "        super(MNISTClassifier, self).__init__()\n",
    "        self.fc1 = nn.Linear(28*28, 128)  # Fully connected layer 1\n",
    "        self.fc2 = nn.Linear(128, 64)     # Fully connected layer 2\n",
    "        self.fc3 = nn.Linear(64, 10)      # Output layer (10 classes)\n",
    "        self.relu = nn.ReLU()             # Activation function\n",
    "\n",
    "    def forward(self, x):\n",
    "        x = x.view(-1, 28*28)  # Flatten 28x28 images into 1D\n",
    "        x = self.relu(self.fc1(x))\n",
    "        x = self.relu(self.fc2(x))\n",
    "        x = self.fc3(x)  # No activation for output (will use CrossEntropyLoss)\n",
    "        return x\n"
   ]
  },
  {
   "cell_type": "code",
   "execution_count": 31,
   "id": "73fb8c72-2e59-4ef3-841b-fb0537b6bbf0",
   "metadata": {},
   "outputs": [
    {
     "name": "stdout",
     "output_type": "stream",
     "text": [
      "Using device: cpu\n"
     ]
    }
   ],
   "source": [
    "import torch.optim as optim\n",
    "\n",
    "# Check for GPU\n",
    "device = torch.device(\"cuda\" if torch.cuda.is_available() else \"cpu\")\n",
    "\n",
    "# Initialize model, loss function, and optimizer\n",
    "model = MNISTClassifier().to(device)\n",
    "criterion = nn.CrossEntropyLoss()\n",
    "optimizer = optim.Adam(model.parameters(), lr=0.001)\n",
    "\n",
    "print(f\"Using device: {device}\")\n"
   ]
  },
  {
   "cell_type": "code",
   "execution_count": 32,
   "id": "fa1503ed-965b-46ce-ac80-28188a116a06",
   "metadata": {},
   "outputs": [
    {
     "name": "stdout",
     "output_type": "stream",
     "text": [
      "Epoch 1/5, Loss: 0.3435448556304423\n",
      "Epoch 2/5, Loss: 0.14211208704731929\n",
      "Epoch 3/5, Loss: 0.09779515377442434\n",
      "Epoch 4/5, Loss: 0.07328522081143343\n",
      "Epoch 5/5, Loss: 0.056540396100015385\n",
      "Training complete!\n"
     ]
    }
   ],
   "source": [
    "num_epochs = 5\n",
    "\n",
    "for epoch in range(num_epochs):\n",
    "    model.train()  # Set model to training mode\n",
    "    running_loss = 0.0\n",
    "    \n",
    "    for images, labels in train_loader:\n",
    "        images, labels = images.to(device), labels.to(device)\n",
    "\n",
    "        optimizer.zero_grad()  # Reset gradients\n",
    "        outputs = model(images)  # Forward pass\n",
    "        loss = criterion(outputs, labels)  # Compute loss\n",
    "        loss.backward()  # Backpropagation\n",
    "        optimizer.step()  # Update weights\n",
    "\n",
    "        running_loss += loss.item()\n",
    "    \n",
    "    print(f\"Epoch {epoch+1}/{num_epochs}, Loss: {running_loss/len(train_loader)}\")\n",
    "\n",
    "print(\"Training complete!\")\n"
   ]
  },
  {
   "cell_type": "code",
   "execution_count": 33,
   "id": "40f15782-f0a3-4c58-b5d1-8bd5a566412d",
   "metadata": {},
   "outputs": [
    {
     "name": "stdout",
     "output_type": "stream",
     "text": [
      "Test Accuracy: 97.43%\n"
     ]
    }
   ],
   "source": [
    "correct = 0\n",
    "total = 0\n",
    "model.eval()  # Set model to evaluation mode\n",
    "\n",
    "with torch.no_grad():  # No need to compute gradients\n",
    "    for images, labels in test_loader:\n",
    "        images, labels = images.to(device), labels.to(device)\n",
    "        outputs = model(images)\n",
    "        _, predicted = torch.max(outputs, 1)  # Get predicted label\n",
    "        total += labels.size(0)\n",
    "        correct += (predicted == labels).sum().item()\n",
    "\n",
    "print(f\"Test Accuracy: {100 * correct / total:.2f}%\")\n"
   ]
  },
  {
   "cell_type": "code",
   "execution_count": 34,
   "id": "8870d8be-9c00-4967-8d6b-9920d045f5eb",
   "metadata": {},
   "outputs": [
    {
     "data": {
      "image/png": "[encoded data removed]",
      "text/plain": [
       "<Figure size 1500x500 with 8 Axes>"
      ]
     },
     "metadata": {},
     "output_type": "display_data"
    }
   ],
   "source": [
    "import matplotlib.pyplot as plt\n",
    "import numpy as np\n",
    "\n",
    "# Get a batch of test images\n",
    "data_iter = iter(test_loader)\n",
    "images, labels = next(data_iter)\n",
    "images, labels = images.to(device), labels.to(device)\n",
    "\n",
    "# Get model predictions\n",
    "outputs = model(images)\n",
    "_, predicted = torch.max(outputs, 1)\n",
    "\n",
    "# Convert tensor to NumPy for visualization\n",
    "images = images.cpu().numpy()\n",
    "\n",
    "# Plot 8 images with their predictions\n",
    "fig, axes = plt.subplots(1, 8, figsize=(15, 5))\n",
    "for i in range(8):\n",
    "    axes[i].imshow(images[i].squeeze(), cmap=\"gray\")\n",
    "    axes[i].set_title(f\"Pred: {predicted[i].item()}\")\n",
    "    axes[i].axis(\"off\")\n",
    "\n",
    "plt.show()\n"
   ]
  }
 ],
 "metadata": {
  "kernelspec": {
   "display_name": "Python 3 (ipykernel)",
   "language": "python",
   "name": "python3"
  },
  "language_info": {
   "codemirror_mode": {
    "name": "ipython",
    "version": 3
   },
   "file_extension": ".py",
   "mimetype": "text/x-python",
   "name": "python",
   "nbconvert_exporter": "python",
   "pygments_lexer": "ipython3",
   "version": "3.11.5"
  }
 },
 "nbformat": 4,
 "nbformat_minor": 5
}
